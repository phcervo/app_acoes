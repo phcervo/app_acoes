{
 "cells": [
  {
   "cell_type": "code",
   "execution_count": 1,
   "id": "969d2252",
   "metadata": {},
   "outputs": [],
   "source": [
    "import yfinance as yf\n",
    "from datetime import datetime"
   ]
  },
  {
   "cell_type": "code",
   "execution_count": 2,
   "id": "0f1e0ba5",
   "metadata": {},
   "outputs": [],
   "source": [
    "def get_acao(mercado,acao,inicio,final):\n",
    "    if mercado == 'Brasil':\n",
    "        acao = acao +'.SA'\n",
    "    else:\n",
    "        acao = acao\n",
    "    dat = yf.Ticker(acao)\n",
    "    data = dat.history(start=inicio,end=final)\n",
    "    data = data.reset_index()\n",
    "    data = data[['Date','Close']]\n",
    "    return data"
   ]
  },
  {
   "cell_type": "code",
   "execution_count": 5,
   "id": "1ab4cf7c",
   "metadata": {},
   "outputs": [],
   "source": [
    "inicio = datetime(2024,12,15)\n",
    "final = datetime(2025,3,3)\n",
    "data = get_acao('Brasil','PETR4',inicio,final)"
   ]
  },
  {
   "cell_type": "code",
   "execution_count": 30,
   "id": "b57498ed",
   "metadata": {},
   "outputs": [],
   "source": [
    "dat = yf.Ticker('VALE3.SA')\n",
    "dict_info = dat.info"
   ]
  },
  {
   "cell_type": "code",
   "execution_count": 46,
   "id": "f767e90f",
   "metadata": {},
   "outputs": [],
   "source": [
    "# Lista com as chaves que você quer manter\n",
    "chaves_desejadas = ['address1','city', 'country','state','phone','website','industry',\n",
    " 'industryKey','sectorKey','longBusinessSummary','fullTimeEmployees','overallRisk']\n",
    "\n",
    "# Novo dicionário com apenas essas chaves\n",
    "novo_dict = {chave: dict_info[chave] for chave in chaves_desejadas}"
   ]
  },
  {
   "cell_type": "code",
   "execution_count": 47,
   "id": "24586517",
   "metadata": {},
   "outputs": [
    {
     "data": {
      "text/plain": [
       "{'address1': 'Praia de Botafogo 186',\n",
       " 'city': 'Rio De Janeiro',\n",
       " 'country': 'Brazil',\n",
       " 'state': 'RJ',\n",
       " 'phone': '55 21 3485 5000',\n",
       " 'website': 'https://www.vale.com',\n",
       " 'industry': 'Other Industrial Metals & Mining',\n",
       " 'industryKey': 'other-industrial-metals-mining',\n",
       " 'sectorKey': 'basic-materials',\n",
       " 'longBusinessSummary': 'Vale S.A., together with its subsidiaries, produces and sells iron ore, iron ore pellets, nickel, and copper in Brazil and internationally. The company operates through Iron Solutions and Energy Transition Materials segments. The Iron Solutions segment produces and extracts iron ore and pellets, and other ferrous products; and provides related logistic services. The Energy Transition Materials segment produces and extracts nickel; and its by-products, such as gold, silver, cobalt, precious metals, and others, as well as copper used in the construction sector to produce pipes and electrical wires. The company was formerly known as Companhia Vale do Rio Doce and changed its name to Vale S.A. in May 2009. Vale S.A. was founded in 1942 and is headquartered in Rio De Janeiro, Brazil.',\n",
       " 'fullTimeEmployees': 64616,\n",
       " 'overallRisk': 1}"
      ]
     },
     "execution_count": 47,
     "metadata": {},
     "output_type": "execute_result"
    }
   ],
   "source": [
    "novo_dict"
   ]
  },
  {
   "cell_type": "code",
   "execution_count": 34,
   "id": "407f192b",
   "metadata": {},
   "outputs": [],
   "source": [
    "lista_chaves = list(dict_info.keys())"
   ]
  },
  {
   "cell_type": "code",
   "execution_count": null,
   "id": "fde18411",
   "metadata": {},
   "outputs": [],
   "source": [
    "'address1','city', 'country','state',\n",
    " 'phone',\n",
    " 'website',\n",
    " 'industry',\n",
    " 'industryKey',\n",
    "\n",
    " 'sectorKey',\n",
    " 'longBusinessSummary',\n",
    " 'fullTimeEmployees',\n",
    " 'overallRisk',"
   ]
  },
  {
   "cell_type": "code",
   "execution_count": 1,
   "id": "22f994f9",
   "metadata": {},
   "outputs": [],
   "source": [
    "lista_acao = ['PETR4','VALE3']"
   ]
  },
  {
   "cell_type": "code",
   "execution_count": 5,
   "id": "858c2d99",
   "metadata": {},
   "outputs": [],
   "source": [
    "mercado = 'Brasil'\n",
    "data_inicio = datetime(2025,4,1)\n",
    "data_final = datetime(2025,4,7)"
   ]
  },
  {
   "cell_type": "code",
   "execution_count": 8,
   "id": "3233caeb",
   "metadata": {},
   "outputs": [],
   "source": [
    "import pandas as pd\n",
    "df_acoes = pd.DataFrame()\n",
    "for acao in lista_acao:\n",
    "        df_precos = get_acao(mercado,acao,data_inicio,data_final)\n",
    "        df_precos['ativo'] = acao\n",
    "        df_precos['Date'] = pd.to_datetime(df_precos['Date']).dt.strftime('%d/%m/%Y')\n",
    "        df_acoes = pd.concat([df_acoes,df_precos])"
   ]
  },
  {
   "cell_type": "code",
   "execution_count": null,
   "id": "9fd388b5",
   "metadata": {},
   "outputs": [],
   "source": []
  },
  {
   "cell_type": "code",
   "execution_count": 18,
   "id": "24248563",
   "metadata": {},
   "outputs": [],
   "source": [
    "def get_bench(bench,inicio,final):\n",
    "    dat = yf.Ticker(bench)\n",
    "    data = dat.history(start=inicio,end=final)\n",
    "    data = data.reset_index()\n",
    "    data['ativo'] = bench\n",
    "    data = data[['Date','ativo','Close']]\n",
    "    return data\n",
    "\n",
    "\n",
    "bench = get_bench('^BVSP',data_inicio,data_final)\n",
    "bench_name = '^BVSP'\n"
   ]
  },
  {
   "cell_type": "code",
   "execution_count": 19,
   "id": "291ae172",
   "metadata": {},
   "outputs": [],
   "source": [
    "bench['Date'] = pd.to_datetime(bench['Date']).dt.strftime('%d/%m/%Y')"
   ]
  },
  {
   "cell_type": "code",
   "execution_count": 20,
   "id": "dab9c3c3",
   "metadata": {},
   "outputs": [],
   "source": [
    "df_junto = pd.concat([df_acoes,bench])"
   ]
  },
  {
   "cell_type": "code",
   "execution_count": 22,
   "id": "75e9ff7b",
   "metadata": {},
   "outputs": [],
   "source": [
    "df_pivot = df_junto.pivot(index='Date', columns='ativo', values='Close')\n",
    "    "
   ]
  },
  {
   "cell_type": "code",
   "execution_count": 23,
   "id": "f25dcd31",
   "metadata": {},
   "outputs": [
    {
     "data": {
      "text/html": [
       "<div>\n",
       "<style scoped>\n",
       "    .dataframe tbody tr th:only-of-type {\n",
       "        vertical-align: middle;\n",
       "    }\n",
       "\n",
       "    .dataframe tbody tr th {\n",
       "        vertical-align: top;\n",
       "    }\n",
       "\n",
       "    .dataframe thead th {\n",
       "        text-align: right;\n",
       "    }\n",
       "</style>\n",
       "<table border=\"1\" class=\"dataframe\">\n",
       "  <thead>\n",
       "    <tr style=\"text-align: right;\">\n",
       "      <th>ativo</th>\n",
       "      <th>PETR4</th>\n",
       "      <th>VALE3</th>\n",
       "      <th>^BVSP</th>\n",
       "    </tr>\n",
       "    <tr>\n",
       "      <th>Date</th>\n",
       "      <th></th>\n",
       "      <th></th>\n",
       "      <th></th>\n",
       "    </tr>\n",
       "  </thead>\n",
       "  <tbody>\n",
       "    <tr>\n",
       "      <th>01/04/2025</th>\n",
       "      <td>37.299999</td>\n",
       "      <td>57.189999</td>\n",
       "      <td>131147.0</td>\n",
       "    </tr>\n",
       "    <tr>\n",
       "      <th>02/04/2025</th>\n",
       "      <td>37.200001</td>\n",
       "      <td>56.930000</td>\n",
       "      <td>131190.0</td>\n",
       "    </tr>\n",
       "    <tr>\n",
       "      <th>03/04/2025</th>\n",
       "      <td>36.000000</td>\n",
       "      <td>54.869999</td>\n",
       "      <td>131141.0</td>\n",
       "    </tr>\n",
       "    <tr>\n",
       "      <th>04/04/2025</th>\n",
       "      <td>34.549999</td>\n",
       "      <td>52.680000</td>\n",
       "      <td>127256.0</td>\n",
       "    </tr>\n",
       "  </tbody>\n",
       "</table>\n",
       "</div>"
      ],
      "text/plain": [
       "ativo           PETR4      VALE3     ^BVSP\n",
       "Date                                      \n",
       "01/04/2025  37.299999  57.189999  131147.0\n",
       "02/04/2025  37.200001  56.930000  131190.0\n",
       "03/04/2025  36.000000  54.869999  131141.0\n",
       "04/04/2025  34.549999  52.680000  127256.0"
      ]
     },
     "execution_count": 23,
     "metadata": {},
     "output_type": "execute_result"
    }
   ],
   "source": [
    "df_pivot"
   ]
  },
  {
   "cell_type": "code",
   "execution_count": 24,
   "id": "a6a1a23f",
   "metadata": {},
   "outputs": [],
   "source": [
    "returns = df_pivot.pct_change().dropna()\n",
    "    "
   ]
  },
  {
   "cell_type": "code",
   "execution_count": 25,
   "id": "a66ac1c6",
   "metadata": {},
   "outputs": [
    {
     "data": {
      "text/html": [
       "<div>\n",
       "<style scoped>\n",
       "    .dataframe tbody tr th:only-of-type {\n",
       "        vertical-align: middle;\n",
       "    }\n",
       "\n",
       "    .dataframe tbody tr th {\n",
       "        vertical-align: top;\n",
       "    }\n",
       "\n",
       "    .dataframe thead th {\n",
       "        text-align: right;\n",
       "    }\n",
       "</style>\n",
       "<table border=\"1\" class=\"dataframe\">\n",
       "  <thead>\n",
       "    <tr style=\"text-align: right;\">\n",
       "      <th>ativo</th>\n",
       "      <th>PETR4</th>\n",
       "      <th>VALE3</th>\n",
       "      <th>^BVSP</th>\n",
       "    </tr>\n",
       "    <tr>\n",
       "      <th>Date</th>\n",
       "      <th></th>\n",
       "      <th></th>\n",
       "      <th></th>\n",
       "    </tr>\n",
       "  </thead>\n",
       "  <tbody>\n",
       "    <tr>\n",
       "      <th>02/04/2025</th>\n",
       "      <td>-0.002681</td>\n",
       "      <td>-0.004546</td>\n",
       "      <td>0.000328</td>\n",
       "    </tr>\n",
       "    <tr>\n",
       "      <th>03/04/2025</th>\n",
       "      <td>-0.032258</td>\n",
       "      <td>-0.036185</td>\n",
       "      <td>-0.000374</td>\n",
       "    </tr>\n",
       "    <tr>\n",
       "      <th>04/04/2025</th>\n",
       "      <td>-0.040278</td>\n",
       "      <td>-0.039912</td>\n",
       "      <td>-0.029625</td>\n",
       "    </tr>\n",
       "  </tbody>\n",
       "</table>\n",
       "</div>"
      ],
      "text/plain": [
       "ativo          PETR4     VALE3     ^BVSP\n",
       "Date                                    \n",
       "02/04/2025 -0.002681 -0.004546  0.000328\n",
       "03/04/2025 -0.032258 -0.036185 -0.000374\n",
       "04/04/2025 -0.040278 -0.039912 -0.029625"
      ]
     },
     "execution_count": 25,
     "metadata": {},
     "output_type": "execute_result"
    }
   ],
   "source": [
    "returns"
   ]
  },
  {
   "cell_type": "code",
   "execution_count": 26,
   "id": "3d156da4",
   "metadata": {},
   "outputs": [],
   "source": [
    "benchmark_name = '^BVSP'\n",
    "\n",
    "ret_benchmark = returns[benchmark_name]\n",
    "\n"
   ]
  },
  {
   "cell_type": "code",
   "execution_count": 27,
   "id": "64f4a5f9",
   "metadata": {},
   "outputs": [
    {
     "data": {
      "text/plain": [
       "Date\n",
       "02/04/2025    0.000328\n",
       "03/04/2025   -0.000374\n",
       "04/04/2025   -0.029625\n",
       "Name: ^BVSP, dtype: float64"
      ]
     },
     "execution_count": 27,
     "metadata": {},
     "output_type": "execute_result"
    }
   ],
   "source": [
    "ret_benchmark"
   ]
  },
  {
   "cell_type": "code",
   "execution_count": 28,
   "id": "2bd91f66",
   "metadata": {},
   "outputs": [],
   "source": [
    "import numpy as np\n",
    "betas = {}\n",
    "\n",
    "for ativo in returns.columns:\n",
    "    if ativo != benchmark_name:\n",
    "        cov = np.cov(returns[ativo], ret_benchmark)[0][1]\n",
    "        var = np.var(ret_benchmark)\n",
    "        beta = cov / var\n",
    "        betas[ativo] = beta\n",
    "df_betas = pd.DataFrame.from_dict(betas, orient='index', columns=['Beta'])"
   ]
  },
  {
   "cell_type": "code",
   "execution_count": 31,
   "id": "402568c8",
   "metadata": {},
   "outputs": [
    {
     "data": {
      "text/html": [
       "<div>\n",
       "<style scoped>\n",
       "    .dataframe tbody tr th:only-of-type {\n",
       "        vertical-align: middle;\n",
       "    }\n",
       "\n",
       "    .dataframe tbody tr th {\n",
       "        vertical-align: top;\n",
       "    }\n",
       "\n",
       "    .dataframe thead th {\n",
       "        text-align: right;\n",
       "    }\n",
       "</style>\n",
       "<table border=\"1\" class=\"dataframe\">\n",
       "  <thead>\n",
       "    <tr style=\"text-align: right;\">\n",
       "      <th></th>\n",
       "      <th>index</th>\n",
       "      <th>Beta</th>\n",
       "    </tr>\n",
       "  </thead>\n",
       "  <tbody>\n",
       "    <tr>\n",
       "      <th>0</th>\n",
       "      <td>PETR4</td>\n",
       "      <td>1.181892</td>\n",
       "    </tr>\n",
       "    <tr>\n",
       "      <th>1</th>\n",
       "      <td>VALE3</td>\n",
       "      <td>1.018557</td>\n",
       "    </tr>\n",
       "  </tbody>\n",
       "</table>\n",
       "</div>"
      ],
      "text/plain": [
       "   index      Beta\n",
       "0  PETR4  1.181892\n",
       "1  VALE3  1.018557"
      ]
     },
     "execution_count": 31,
     "metadata": {},
     "output_type": "execute_result"
    }
   ],
   "source": [
    "df_betas.reset_index()"
   ]
  },
  {
   "cell_type": "code",
   "execution_count": 3,
   "id": "1761a802",
   "metadata": {},
   "outputs": [],
   "source": [
    "def calcula_retorno(df,data_fim):\n",
    "    data_busca = pd.Timestamp(data_fim, tz=\"America/Sao_Paulo\")\n",
    "    retorno = (df['Close'].iloc[-1] / df.loc[df['Date'] == data_busca]['Close'].iloc[0])-1\n",
    "    return retorno"
   ]
  },
  {
   "cell_type": "code",
   "execution_count": 7,
   "id": "90b8d9d1",
   "metadata": {},
   "outputs": [],
   "source": [
    "import pandas as pd\n",
    "data_final = datetime(2025,2,10)\n",
    "retorno = calcula_retorno(data,data_final)"
   ]
  },
  {
   "cell_type": "code",
   "execution_count": 16,
   "id": "8a2bed05",
   "metadata": {},
   "outputs": [],
   "source": [
    "lista_acao = ['PETR4','VALE3']\n",
    "mercado = 'Brasil'\n",
    "data_inicio = datetime(2025,4,1)\n",
    "data_final = datetime(2025,4,12)\n"
   ]
  },
  {
   "cell_type": "code",
   "execution_count": 38,
   "id": "575fbc99",
   "metadata": {},
   "outputs": [],
   "source": [
    "df_acoes = pd.DataFrame()\n",
    "if len(lista_acao)>=1:\n",
    "    for acao in lista_acao:\n",
    "        df_precos = get_acao(mercado,acao,data_inicio,data_final)\n",
    "        df_precos['ativo'] = acao\n",
    "        df_precos['Date'] = pd.to_datetime(df_precos['Date']).dt.strftime('%d/%m/%Y')\n",
    "        df_acoes = pd.concat([df_acoes,df_precos])"
   ]
  },
  {
   "cell_type": "code",
   "execution_count": null,
   "id": "c317f506",
   "metadata": {},
   "outputs": [],
   "source": [
    "def calcula_retorno(df,data_fim):\n",
    "    n_acoes = df['ativo'].unique().tolist()\n",
    "    df_retornos = pd.DataFrame()\n",
    "    for ativo in n_acoes:\n",
    "        data_busca = pd.Timestamp(data_fim, tz=\"America/Sao_Paulo\")\n",
    "        df_copy = df[df['ativo'] == ativo]\n",
    "        retorno = (df_copy['Close'].iloc[-1] / df_copy.loc[df_copy['Date'] == data_busca]['Close'].iloc[0])-1\n",
    "        df_nova = pd.DataFrame({'ativo':[ativo],'retorno':[retorno]})\n",
    "        if len(df_retornos>1):\n",
    "            df_retornos = pd.concat([df_retornos,df_nova])\n",
    "        else:\n",
    "            df_retornos = df_nova\n",
    "    return df_retornos\n"
   ]
  },
  {
   "cell_type": "code",
   "execution_count": 19,
   "id": "7d765597",
   "metadata": {},
   "outputs": [],
   "source": [
    "n_acoes = df_acoes['ativo'].unique().tolist()\n",
    "df_retornos = pd.DataFrame()"
   ]
  },
  {
   "cell_type": "code",
   "execution_count": null,
   "id": "60d278fa",
   "metadata": {},
   "outputs": [
    {
     "ename": "IndexError",
     "evalue": "single positional indexer is out-of-bounds",
     "output_type": "error",
     "traceback": [
      "\u001b[1;31m---------------------------------------------------------------------------\u001b[0m",
      "\u001b[1;31mIndexError\u001b[0m                                Traceback (most recent call last)",
      "Cell \u001b[1;32mIn[22], line 5\u001b[0m\n\u001b[0;32m      3\u001b[0m data_busca \u001b[38;5;241m=\u001b[39m pd\u001b[38;5;241m.\u001b[39mTimestamp(data_fim, tz\u001b[38;5;241m=\u001b[39m\u001b[38;5;124m\"\u001b[39m\u001b[38;5;124mAmerica/Sao_Paulo\u001b[39m\u001b[38;5;124m\"\u001b[39m)\n\u001b[0;32m      4\u001b[0m df_copy \u001b[38;5;241m=\u001b[39m df_acoes[df_acoes[\u001b[38;5;124m'\u001b[39m\u001b[38;5;124mativo\u001b[39m\u001b[38;5;124m'\u001b[39m] \u001b[38;5;241m==\u001b[39m ativo]\n\u001b[1;32m----> 5\u001b[0m retorno \u001b[38;5;241m=\u001b[39m (df_copy[\u001b[38;5;124m'\u001b[39m\u001b[38;5;124mClose\u001b[39m\u001b[38;5;124m'\u001b[39m]\u001b[38;5;241m.\u001b[39miloc[\u001b[38;5;241m-\u001b[39m\u001b[38;5;241m1\u001b[39m] \u001b[38;5;241m/\u001b[39m \u001b[43mdf_copy\u001b[49m\u001b[38;5;241;43m.\u001b[39;49m\u001b[43mloc\u001b[49m\u001b[43m[\u001b[49m\u001b[43mdf_copy\u001b[49m\u001b[43m[\u001b[49m\u001b[38;5;124;43m'\u001b[39;49m\u001b[38;5;124;43mDate\u001b[39;49m\u001b[38;5;124;43m'\u001b[39;49m\u001b[43m]\u001b[49m\u001b[43m \u001b[49m\u001b[38;5;241;43m==\u001b[39;49m\u001b[43m \u001b[49m\u001b[43mdata_busca\u001b[49m\u001b[43m]\u001b[49m\u001b[43m[\u001b[49m\u001b[38;5;124;43m'\u001b[39;49m\u001b[38;5;124;43mClose\u001b[39;49m\u001b[38;5;124;43m'\u001b[39;49m\u001b[43m]\u001b[49m\u001b[38;5;241;43m.\u001b[39;49m\u001b[43miloc\u001b[49m\u001b[43m[\u001b[49m\u001b[38;5;241;43m0\u001b[39;49m\u001b[43m]\u001b[49m)\u001b[38;5;241m-\u001b[39m\u001b[38;5;241m1\u001b[39m\n\u001b[0;32m      6\u001b[0m \u001b[38;5;28mprint\u001b[39m(df_copy)\n",
      "File \u001b[1;32mc:\\Users\\phcer\\AppData\\Local\\Programs\\Python\\Python311\\Lib\\site-packages\\pandas\\core\\indexing.py:1192\u001b[0m, in \u001b[0;36m_LocationIndexer.__getitem__\u001b[1;34m(self, key)\u001b[0m\n\u001b[0;32m   1190\u001b[0m maybe_callable \u001b[38;5;241m=\u001b[39m com\u001b[38;5;241m.\u001b[39mapply_if_callable(key, \u001b[38;5;28mself\u001b[39m\u001b[38;5;241m.\u001b[39mobj)\n\u001b[0;32m   1191\u001b[0m maybe_callable \u001b[38;5;241m=\u001b[39m \u001b[38;5;28mself\u001b[39m\u001b[38;5;241m.\u001b[39m_check_deprecated_callable_usage(key, maybe_callable)\n\u001b[1;32m-> 1192\u001b[0m \u001b[38;5;28;01mreturn\u001b[39;00m \u001b[38;5;28;43mself\u001b[39;49m\u001b[38;5;241;43m.\u001b[39;49m\u001b[43m_getitem_axis\u001b[49m\u001b[43m(\u001b[49m\u001b[43mmaybe_callable\u001b[49m\u001b[43m,\u001b[49m\u001b[43m \u001b[49m\u001b[43maxis\u001b[49m\u001b[38;5;241;43m=\u001b[39;49m\u001b[43maxis\u001b[49m\u001b[43m)\u001b[49m\n",
      "File \u001b[1;32mc:\\Users\\phcer\\AppData\\Local\\Programs\\Python\\Python311\\Lib\\site-packages\\pandas\\core\\indexing.py:1753\u001b[0m, in \u001b[0;36m_iLocIndexer._getitem_axis\u001b[1;34m(self, key, axis)\u001b[0m\n\u001b[0;32m   1750\u001b[0m     \u001b[38;5;28;01mraise\u001b[39;00m \u001b[38;5;167;01mTypeError\u001b[39;00m(\u001b[38;5;124m\"\u001b[39m\u001b[38;5;124mCannot index by location index with a non-integer key\u001b[39m\u001b[38;5;124m\"\u001b[39m)\n\u001b[0;32m   1752\u001b[0m \u001b[38;5;66;03m# validate the location\u001b[39;00m\n\u001b[1;32m-> 1753\u001b[0m \u001b[38;5;28;43mself\u001b[39;49m\u001b[38;5;241;43m.\u001b[39;49m\u001b[43m_validate_integer\u001b[49m\u001b[43m(\u001b[49m\u001b[43mkey\u001b[49m\u001b[43m,\u001b[49m\u001b[43m \u001b[49m\u001b[43maxis\u001b[49m\u001b[43m)\u001b[49m\n\u001b[0;32m   1755\u001b[0m \u001b[38;5;28;01mreturn\u001b[39;00m \u001b[38;5;28mself\u001b[39m\u001b[38;5;241m.\u001b[39mobj\u001b[38;5;241m.\u001b[39m_ixs(key, axis\u001b[38;5;241m=\u001b[39maxis)\n",
      "File \u001b[1;32mc:\\Users\\phcer\\AppData\\Local\\Programs\\Python\\Python311\\Lib\\site-packages\\pandas\\core\\indexing.py:1686\u001b[0m, in \u001b[0;36m_iLocIndexer._validate_integer\u001b[1;34m(self, key, axis)\u001b[0m\n\u001b[0;32m   1684\u001b[0m len_axis \u001b[38;5;241m=\u001b[39m \u001b[38;5;28mlen\u001b[39m(\u001b[38;5;28mself\u001b[39m\u001b[38;5;241m.\u001b[39mobj\u001b[38;5;241m.\u001b[39m_get_axis(axis))\n\u001b[0;32m   1685\u001b[0m \u001b[38;5;28;01mif\u001b[39;00m key \u001b[38;5;241m>\u001b[39m\u001b[38;5;241m=\u001b[39m len_axis \u001b[38;5;129;01mor\u001b[39;00m key \u001b[38;5;241m<\u001b[39m \u001b[38;5;241m-\u001b[39mlen_axis:\n\u001b[1;32m-> 1686\u001b[0m     \u001b[38;5;28;01mraise\u001b[39;00m \u001b[38;5;167;01mIndexError\u001b[39;00m(\u001b[38;5;124m\"\u001b[39m\u001b[38;5;124msingle positional indexer is out-of-bounds\u001b[39m\u001b[38;5;124m\"\u001b[39m)\n",
      "\u001b[1;31mIndexError\u001b[0m: single positional indexer is out-of-bounds"
     ]
    }
   ],
   "source": [
    "data_fim = datetime(2025,4,4)\n",
    "df_retornos = pd.DataFrame()\n",
    "for ativo in n_acoes:\n",
    "    data_busca = pd.to_datetime(data_fim)\n",
    "    df_copy = df[df['ativo'] == ativo]\n",
    "    retorno = (df_copy['Close'].iloc[-1] / df_copy.loc[df_copy['Date'] == data_busca]['Close'].iloc[0])-1\n",
    "    df_nova = pd.DataFrame({'ativo':[ativo],'retorno':[retorno]})\n",
    "    if len(df_retornos>1):\n",
    "        df_retornos = pd.concat([df_retornos,df_nova])\n",
    "    else:\n",
    "        df_retornos = df_nova\n",
    "return df_retornos"
   ]
  },
  {
   "cell_type": "code",
   "execution_count": 35,
   "id": "a349dd67",
   "metadata": {},
   "outputs": [
    {
     "data": {
      "text/plain": [
       "-0.07814758075868866"
      ]
     },
     "execution_count": 35,
     "metadata": {},
     "output_type": "execute_result"
    }
   ],
   "source": [
    "df_copy\n",
    "(df_copy['Close'].iloc[-1] / df_copy.loc[df_copy['Date'] == data_busca]['Close'].iloc[0])-1"
   ]
  },
  {
   "cell_type": "code",
   "execution_count": 29,
   "id": "ceda51cb",
   "metadata": {},
   "outputs": [],
   "source": [
    "data_busca = pd.to_datetime(data_fim)"
   ]
  },
  {
   "cell_type": "code",
   "execution_count": 31,
   "id": "b03bebb1",
   "metadata": {},
   "outputs": [
    {
     "data": {
      "text/plain": [
       "Timestamp('2025-04-04 00:00:00')"
      ]
     },
     "execution_count": 31,
     "metadata": {},
     "output_type": "execute_result"
    }
   ],
   "source": [
    "data_busca"
   ]
  },
  {
   "cell_type": "code",
   "execution_count": 33,
   "id": "58378b00",
   "metadata": {},
   "outputs": [
    {
     "name": "stderr",
     "output_type": "stream",
     "text": [
      "C:\\Users\\phcer\\AppData\\Local\\Temp\\ipykernel_26344\\1967456879.py:1: SettingWithCopyWarning: \n",
      "A value is trying to be set on a copy of a slice from a DataFrame.\n",
      "Try using .loc[row_indexer,col_indexer] = value instead\n",
      "\n",
      "See the caveats in the documentation: https://pandas.pydata.org/pandas-docs/stable/user_guide/indexing.html#returning-a-view-versus-a-copy\n",
      "  df_copy['Date'] = pd.to_datetime(df_copy['Date'])\n"
     ]
    }
   ],
   "source": [
    "df_copy['Date'] = pd.to_datetime(df_copy['Date'])"
   ]
  },
  {
   "cell_type": "code",
   "execution_count": 36,
   "id": "29180645",
   "metadata": {},
   "outputs": [],
   "source": [
    "df_retornos = pd.DataFrame()\n",
    "df_nova = pd.DataFrame({'ativo':[ativo],'retorno':[retorno]})\n",
    "if len(df_retornos>1):\n",
    "    df_retornos = pd.concat([df_retornos,df_nova])\n",
    "else:\n",
    "    df_retornos = df_nova"
   ]
  },
  {
   "cell_type": "code",
   "execution_count": 39,
   "id": "242c37fc",
   "metadata": {},
   "outputs": [],
   "source": [
    "n_acoes = df_acoes['ativo'].unique().tolist()\n",
    "df_retornos = pd.DataFrame()\n"
   ]
  },
  {
   "cell_type": "code",
   "execution_count": 44,
   "id": "4da307ee",
   "metadata": {},
   "outputs": [],
   "source": [
    "df_acoes['Date'] = pd.to_datetime(df_acoes['Date'])"
   ]
  },
  {
   "cell_type": "code",
   "execution_count": 46,
   "id": "1fc072ef",
   "metadata": {},
   "outputs": [],
   "source": [
    "for ativo in n_acoes:\n",
    "    data_busca = pd.to_datetime(data_fim)\n",
    "    df_copy = df_acoes[df_acoes['ativo'] == ativo]\n",
    "    retorno = (df_copy['Close'].iloc[-1] / df_copy.loc[df_copy['Date'] == data_busca]['Close'].iloc[0])-1\n",
    "    df_nova = pd.DataFrame({'ativo':[ativo],'retorno':[retorno]})\n",
    "    "
   ]
  },
  {
   "cell_type": "code",
   "execution_count": 47,
   "id": "7c94f57e",
   "metadata": {},
   "outputs": [
    {
     "data": {
      "text/html": [
       "<div>\n",
       "<style scoped>\n",
       "    .dataframe tbody tr th:only-of-type {\n",
       "        vertical-align: middle;\n",
       "    }\n",
       "\n",
       "    .dataframe tbody tr th {\n",
       "        vertical-align: top;\n",
       "    }\n",
       "\n",
       "    .dataframe thead th {\n",
       "        text-align: right;\n",
       "    }\n",
       "</style>\n",
       "<table border=\"1\" class=\"dataframe\">\n",
       "  <thead>\n",
       "    <tr style=\"text-align: right;\">\n",
       "      <th></th>\n",
       "      <th>ativo</th>\n",
       "      <th>retorno</th>\n",
       "    </tr>\n",
       "  </thead>\n",
       "  <tbody>\n",
       "    <tr>\n",
       "      <th>0</th>\n",
       "      <td>VALE3</td>\n",
       "      <td>0.018603</td>\n",
       "    </tr>\n",
       "  </tbody>\n",
       "</table>\n",
       "</div>"
      ],
      "text/plain": [
       "   ativo   retorno\n",
       "0  VALE3  0.018603"
      ]
     },
     "execution_count": 47,
     "metadata": {},
     "output_type": "execute_result"
    }
   ],
   "source": [
    "df_nova"
   ]
  },
  {
   "cell_type": "code",
   "execution_count": null,
   "id": "893ad336",
   "metadata": {},
   "outputs": [],
   "source": [
    "if len(df_retornos)>1:\n",
    "        df_retornos = pd.concat([df_retornos,df_nova])\n",
    "    else:\n",
    "        df_retornos = df_nova"
   ]
  },
  {
   "cell_type": "code",
   "execution_count": 55,
   "id": "55449bfd",
   "metadata": {},
   "outputs": [],
   "source": [
    "from dateutil.relativedelta import relativedelta\n",
    "\n",
    "data_periodo = data_final - relativedelta(years=1)\n",
    "\n",
    "for acao in lista_acao:\n",
    "    df_precos = get_acao(mercado,acao,data_periodo,data_final)\n",
    "    df_precos['ativo'] = acao\n",
    "    df_precos['Date'] = pd.to_datetime(df_precos['Date']).dt.strftime('%d/%m/%Y')\n",
    "    df_acoes = pd.concat([df_acoes,df_precos])\n"
   ]
  },
  {
   "cell_type": "code",
   "execution_count": 54,
   "id": "978d2354",
   "metadata": {},
   "outputs": [],
   "source": [
    "data_periodo = data_final - relativedelta(years=1)"
   ]
  },
  {
   "cell_type": "code",
   "execution_count": 57,
   "id": "801ee8f0",
   "metadata": {},
   "outputs": [],
   "source": [
    "df_acoes['Date'] = pd.to_datetime(df_acoes['Date'])"
   ]
  },
  {
   "cell_type": "code",
   "execution_count": 58,
   "id": "fe80b2f7",
   "metadata": {},
   "outputs": [
    {
     "data": {
      "text/html": [
       "<div>\n",
       "<style scoped>\n",
       "    .dataframe tbody tr th:only-of-type {\n",
       "        vertical-align: middle;\n",
       "    }\n",
       "\n",
       "    .dataframe tbody tr th {\n",
       "        vertical-align: top;\n",
       "    }\n",
       "\n",
       "    .dataframe thead th {\n",
       "        text-align: right;\n",
       "    }\n",
       "</style>\n",
       "<table border=\"1\" class=\"dataframe\">\n",
       "  <thead>\n",
       "    <tr style=\"text-align: right;\">\n",
       "      <th></th>\n",
       "      <th>Date</th>\n",
       "      <th>Close</th>\n",
       "      <th>ativo</th>\n",
       "    </tr>\n",
       "  </thead>\n",
       "  <tbody>\n",
       "    <tr>\n",
       "      <th>0</th>\n",
       "      <td>2025-01-04</td>\n",
       "      <td>37.299999</td>\n",
       "      <td>PETR4</td>\n",
       "    </tr>\n",
       "    <tr>\n",
       "      <th>1</th>\n",
       "      <td>2025-02-04</td>\n",
       "      <td>37.200001</td>\n",
       "      <td>PETR4</td>\n",
       "    </tr>\n",
       "    <tr>\n",
       "      <th>2</th>\n",
       "      <td>2025-03-04</td>\n",
       "      <td>36.000000</td>\n",
       "      <td>PETR4</td>\n",
       "    </tr>\n",
       "    <tr>\n",
       "      <th>3</th>\n",
       "      <td>2025-04-04</td>\n",
       "      <td>34.549999</td>\n",
       "      <td>PETR4</td>\n",
       "    </tr>\n",
       "    <tr>\n",
       "      <th>4</th>\n",
       "      <td>2025-07-04</td>\n",
       "      <td>33.180000</td>\n",
       "      <td>PETR4</td>\n",
       "    </tr>\n",
       "    <tr>\n",
       "      <th>...</th>\n",
       "      <td>...</td>\n",
       "      <td>...</td>\n",
       "      <td>...</td>\n",
       "    </tr>\n",
       "    <tr>\n",
       "      <th>246</th>\n",
       "      <td>2025-07-04</td>\n",
       "      <td>52.049999</td>\n",
       "      <td>VALE3</td>\n",
       "    </tr>\n",
       "    <tr>\n",
       "      <th>247</th>\n",
       "      <td>2025-08-04</td>\n",
       "      <td>49.200001</td>\n",
       "      <td>VALE3</td>\n",
       "    </tr>\n",
       "    <tr>\n",
       "      <th>248</th>\n",
       "      <td>2025-09-04</td>\n",
       "      <td>51.849998</td>\n",
       "      <td>VALE3</td>\n",
       "    </tr>\n",
       "    <tr>\n",
       "      <th>249</th>\n",
       "      <td>2025-10-04</td>\n",
       "      <td>52.779999</td>\n",
       "      <td>VALE3</td>\n",
       "    </tr>\n",
       "    <tr>\n",
       "      <th>250</th>\n",
       "      <td>2025-11-04</td>\n",
       "      <td>53.660000</td>\n",
       "      <td>VALE3</td>\n",
       "    </tr>\n",
       "  </tbody>\n",
       "</table>\n",
       "<p>13214 rows × 3 columns</p>\n",
       "</div>"
      ],
      "text/plain": [
       "          Date      Close  ativo\n",
       "0   2025-01-04  37.299999  PETR4\n",
       "1   2025-02-04  37.200001  PETR4\n",
       "2   2025-03-04  36.000000  PETR4\n",
       "3   2025-04-04  34.549999  PETR4\n",
       "4   2025-07-04  33.180000  PETR4\n",
       "..         ...        ...    ...\n",
       "246 2025-07-04  52.049999  VALE3\n",
       "247 2025-08-04  49.200001  VALE3\n",
       "248 2025-09-04  51.849998  VALE3\n",
       "249 2025-10-04  52.779999  VALE3\n",
       "250 2025-11-04  53.660000  VALE3\n",
       "\n",
       "[13214 rows x 3 columns]"
      ]
     },
     "execution_count": 58,
     "metadata": {},
     "output_type": "execute_result"
    }
   ],
   "source": [
    "df_acoes"
   ]
  },
  {
   "cell_type": "code",
   "execution_count": null,
   "id": "244dd9dd",
   "metadata": {},
   "outputs": [],
   "source": [
    "def calcula_retorno(df,data_fim):\n",
    "    n_acoes = df['ativo'].unique().tolist()\n",
    "    df_retornos = pd.DataFrame()\n",
    "    for ativo in n_acoes:\n",
    "        data_busca = pd.to_datetime(data_fim)\n",
    "        df_copy = df[df['ativo'] == ativo]\n",
    "        for dias_atras in range(4):\n",
    "            data_busca = pd.to_datetime(data_fim - relativedelta(days=dias_atras))\n",
    "            filtro = df_copy.loc[df_copy['Date'] == data_busca]\n",
    "\n",
    "            if not filtro.empty:\n",
    "                preco_inicial = filtro['Close'].iloc[0]\n",
    "                preco_final = df_copy['Close'].iloc[-1]\n",
    "                retorno = (preco_final / preco_inicial) - 1\n",
    "\n",
    "        df_nova = pd.DataFrame({'ativo':[ativo],'retorno':[retorno]})\n",
    "        if len(df_retornos)>= 1:\n",
    "            df_retornos = pd.concat([df_retornos,df_nova])\n",
    "        else:\n",
    "            df_retornos = df_nova\n",
    "    return df_retornos"
   ]
  }
 ],
 "metadata": {
  "kernelspec": {
   "display_name": "Python 3",
   "language": "python",
   "name": "python3"
  },
  "language_info": {
   "codemirror_mode": {
    "name": "ipython",
    "version": 3
   },
   "file_extension": ".py",
   "mimetype": "text/x-python",
   "name": "python",
   "nbconvert_exporter": "python",
   "pygments_lexer": "ipython3",
   "version": "3.11.0"
  }
 },
 "nbformat": 4,
 "nbformat_minor": 5
}
